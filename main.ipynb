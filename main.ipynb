{
 "cells": [
  {
   "cell_type": "code",
   "execution_count": 11,
   "metadata": {},
   "outputs": [],
   "source": [
    "import json\n",
    "\n",
    "from variable import *\n",
    "from 变量存储与加载 import varLD\n",
    "from path import *\n",
    "import requests\n",
    "\n",
    "class csuLibrary():\n",
    "\n",
    "    def __init__(self):\n",
    "        self.session = requests.session()\n",
    "        self.username = \"8209180334\"\n",
    "        self.pwd = \"294633\"\n",
    "        self.area = \"53\"\n",
    "        self.segment = ''\n",
    "\n",
    "\n",
    "    # 获取时间戳，每次要用之前访问一下\n",
    "    def getSegment(self):\n",
    "        day, hour, minute = getNow()\n",
    "\n",
    "        url = 'http://libzw.csu.edu.cn/api.php/space_time_buckets?day='+day+'&area=' + self.area\n",
    "\n",
    "        seatHeader2 = getHeader('reqFile/reqSeat2')\n",
    "\n",
    "        spaceReq = self.session.get(url=url, headers=seatHeader2)\n",
    "        s = spaceReq.text\n",
    "        import json\n",
    "        j = json.loads(s)\n",
    "        timel = j['data']['list']\n",
    "        self.segment = str(timel[0]['id'])\n",
    "        return timel\n",
    "        # 登录，获取一个验证id，这个id将会用于获取token\n",
    "        \n",
    "    def saveCookies(self):\n",
    "        varLD.saveData(data=self.session.cookies, filePath=FileDir+ '/' + self.username+'cookies')\n",
    "\n",
    "    def loadCookies(self):\n",
    "        self.session.cookies = varLD.loadData(filePath=FileDir+ '/' + self.username+'cookies')\n",
    "    \n",
    "    \n",
    "    \n",
    "    \n",
    "    # 登录，获取一个验证id，这个id将会用于获取token\n",
    "    def login(self):\n",
    "\n",
    "        headers1 = getHeader(url = 'reqFile/request')\n",
    "\n",
    "        # for i in headers1:\n",
    "        #     session.headers[i] = headers1[i]\n",
    "\n",
    "        url = 'https://ca.csu.edu.cn/authserver/checkNeedCaptcha.htl?username=8209180334&_=1640607470116'\n",
    "\n",
    "        try:\n",
    "            resp = self.session.get(url = url,  headers = headers1,allow_redirects=True)\n",
    "        except Exception as e:\n",
    "            print('error occur',e)\n",
    "            \n",
    "            \n",
    "    def checkRest(self):\n",
    "        day, hour, minute = getNow()\n",
    "        # 这里是参数，固定了铁道2楼就是这个\n",
    "        spaceUrl = 'http://libzw.csu.edu.cn/api.php/spaces_old?area='+self.area+'&segment='+self.segment+'&day=' + day + '&startTime=' + str(\n",
    "            hour) + ':' + str(minute) + '&endTime=22%3A00'\n",
    "\n",
    "        seatHeader2 = getHeader('reqFile/reqSeat2')\n",
    "\n",
    "        spaceReq = self.session.get(url=spaceUrl, headers=seatHeader2)\n",
    "        s = spaceReq.text\n",
    "        import json\n",
    "        j = json.loads(s)\n",
    "        seatList = j['data']['list']\n",
    "        # print(j)\n",
    "\n",
    "        rest = {}\n",
    "        for i in seatList:\n",
    "            state = i['status_name']\n",
    "            name = i['name']\n",
    "            if state == '空闲':\n",
    "                rest[name] = i['id']\n",
    "            # if name == 'TF2A014':\n",
    "            #     print(i['status_name'], i['name'], i, end='\\n\\n')\n",
    "\n",
    "\n",
    "        return rest\n",
    "\n",
    "\n",
    "\n",
    "    # 传入座位id， 选择座位\n",
    "    def chooseSeat(self, id):\n",
    "\n",
    "        formData = {}\n",
    "        formData['access_token'] = self.session.cookies['access_token']\n",
    "        formData['userid'] = self.session.cookies['userid']\n",
    "\n",
    "        formData['segment'] = self.segment   # 这里是参数，固定了铁道2楼就是这个\n",
    "        formData['type'] = str(1)\n",
    "        seatUrl  = 'http://libzw.csu.edu.cn/api.php/spaces/' +str(id)+ '/book'\n",
    "        print(seatUrl)\n",
    "        h = getHeader('reqFile/chooseReq')\n",
    "        day, hour, minute = getNow()\n",
    "\n",
    "        h['Referer'] = 'http://libzw.csu.edu.cn/web/seat3?area='+self.area+'&segment='+self.segment+'&day=' + day + '&startTime=' + str(hour) + ':' + str(minute) + '&endTime=22%3A00'\n",
    "        r = self.session.post(url = seatUrl, headers =h, data=formData)\n",
    "        return json.loads(r.text)\n"
   ]
  },
  {
   "cell_type": "code",
   "execution_count": 12,
   "metadata": {},
   "outputs": [],
   "source": [
    "csu = csuLibrary()\n",
    "csu.login()\n"
   ]
  },
  {
   "cell_type": "code",
   "execution_count": null,
   "metadata": {},
   "outputs": [],
   "source": []
  },
  {
   "cell_type": "code",
   "execution_count": 9,
   "metadata": {},
   "outputs": [
    {
     "name": "stdout",
     "output_type": "stream",
     "text": [
      "XF4E013\n",
      "XF4E014\n",
      "XF4E016\n",
      "XF4E018\n",
      "XF4E031\n",
      "XF4E040\n",
      "XF4E072\n",
      "XF4E075\n",
      "XF4E088\n",
      "XF4E110\n",
      "XF4E128\n",
      "XF4E129\n",
      "XF4E136\n"
     ]
    }
   ],
   "source": [
    "rest = csu.checkRest()\n",
    "for i in rest:\n",
    "    print(i)"
   ]
  },
  {
   "cell_type": "code",
   "execution_count": 10,
   "metadata": {},
   "outputs": [
    {
     "ename": "KeyError",
     "evalue": "\"name='access_token', domain=None, path=None\"",
     "output_type": "error",
     "traceback": [
      "\u001B[1;31m---------------------------------------------------------------------------\u001B[0m",
      "\u001B[1;31mKeyError\u001B[0m                                  Traceback (most recent call last)",
      "\u001B[1;32mC:\\Users\\ADMINI~1\\AppData\\Local\\Temp/ipykernel_11776/2170305549.py\u001B[0m in \u001B[0;36m<module>\u001B[1;34m\u001B[0m\n\u001B[1;32m----> 1\u001B[1;33m \u001B[0mans\u001B[0m  \u001B[1;33m=\u001B[0m  \u001B[0mcsu\u001B[0m\u001B[1;33m.\u001B[0m\u001B[0mchooseSeat\u001B[0m\u001B[1;33m(\u001B[0m\u001B[1;36m13\u001B[0m\u001B[1;33m)\u001B[0m\u001B[1;33m\u001B[0m\u001B[1;33m\u001B[0m\u001B[0m\n\u001B[0m\u001B[0;32m      2\u001B[0m \u001B[0mprint\u001B[0m\u001B[1;33m(\u001B[0m\u001B[0mans\u001B[0m\u001B[1;33m)\u001B[0m\u001B[1;33m\u001B[0m\u001B[1;33m\u001B[0m\u001B[0m\n",
      "\u001B[1;32mC:\\Users\\ADMINI~1\\AppData\\Local\\Temp/ipykernel_11776/4140253269.py\u001B[0m in \u001B[0;36mchooseSeat\u001B[1;34m(self, id)\u001B[0m\n\u001B[0;32m     83\u001B[0m \u001B[1;33m\u001B[0m\u001B[0m\n\u001B[0;32m     84\u001B[0m         \u001B[0mformData\u001B[0m \u001B[1;33m=\u001B[0m \u001B[1;33m{\u001B[0m\u001B[1;33m}\u001B[0m\u001B[1;33m\u001B[0m\u001B[1;33m\u001B[0m\u001B[0m\n\u001B[1;32m---> 85\u001B[1;33m         \u001B[0mformData\u001B[0m\u001B[1;33m[\u001B[0m\u001B[1;34m'access_token'\u001B[0m\u001B[1;33m]\u001B[0m \u001B[1;33m=\u001B[0m \u001B[0mself\u001B[0m\u001B[1;33m.\u001B[0m\u001B[0msession\u001B[0m\u001B[1;33m.\u001B[0m\u001B[0mcookies\u001B[0m\u001B[1;33m[\u001B[0m\u001B[1;34m'access_token'\u001B[0m\u001B[1;33m]\u001B[0m\u001B[1;33m\u001B[0m\u001B[1;33m\u001B[0m\u001B[0m\n\u001B[0m\u001B[0;32m     86\u001B[0m         \u001B[0mformData\u001B[0m\u001B[1;33m[\u001B[0m\u001B[1;34m'userid'\u001B[0m\u001B[1;33m]\u001B[0m \u001B[1;33m=\u001B[0m \u001B[0mself\u001B[0m\u001B[1;33m.\u001B[0m\u001B[0msession\u001B[0m\u001B[1;33m.\u001B[0m\u001B[0mcookies\u001B[0m\u001B[1;33m[\u001B[0m\u001B[1;34m'userid'\u001B[0m\u001B[1;33m]\u001B[0m\u001B[1;33m\u001B[0m\u001B[1;33m\u001B[0m\u001B[0m\n\u001B[0;32m     87\u001B[0m \u001B[1;33m\u001B[0m\u001B[0m\n",
      "\u001B[1;32mc:\\users\\administrator\\documents\\github\\csulibrarybot\\venv\\lib\\site-packages\\requests\\cookies.py\u001B[0m in \u001B[0;36m__getitem__\u001B[1;34m(self, name)\u001B[0m\n\u001B[0;32m    326\u001B[0m         \u001B[1;33m.\u001B[0m\u001B[1;33m.\u001B[0m \u001B[0mwarning\u001B[0m\u001B[1;33m:\u001B[0m\u001B[1;33m:\u001B[0m \u001B[0moperation\u001B[0m \u001B[1;32mis\u001B[0m \u001B[0mO\u001B[0m\u001B[1;33m(\u001B[0m\u001B[0mn\u001B[0m\u001B[1;33m)\u001B[0m\u001B[1;33m,\u001B[0m \u001B[1;32mnot\u001B[0m \u001B[0mO\u001B[0m\u001B[1;33m(\u001B[0m\u001B[1;36m1\u001B[0m\u001B[1;33m)\u001B[0m\u001B[1;33m.\u001B[0m\u001B[1;33m\u001B[0m\u001B[1;33m\u001B[0m\u001B[0m\n\u001B[0;32m    327\u001B[0m         \"\"\"\n\u001B[1;32m--> 328\u001B[1;33m         \u001B[1;32mreturn\u001B[0m \u001B[0mself\u001B[0m\u001B[1;33m.\u001B[0m\u001B[0m_find_no_duplicates\u001B[0m\u001B[1;33m(\u001B[0m\u001B[0mname\u001B[0m\u001B[1;33m)\u001B[0m\u001B[1;33m\u001B[0m\u001B[1;33m\u001B[0m\u001B[0m\n\u001B[0m\u001B[0;32m    329\u001B[0m \u001B[1;33m\u001B[0m\u001B[0m\n\u001B[0;32m    330\u001B[0m     \u001B[1;32mdef\u001B[0m \u001B[0m__setitem__\u001B[0m\u001B[1;33m(\u001B[0m\u001B[0mself\u001B[0m\u001B[1;33m,\u001B[0m \u001B[0mname\u001B[0m\u001B[1;33m,\u001B[0m \u001B[0mvalue\u001B[0m\u001B[1;33m)\u001B[0m\u001B[1;33m:\u001B[0m\u001B[1;33m\u001B[0m\u001B[1;33m\u001B[0m\u001B[0m\n",
      "\u001B[1;32mc:\\users\\administrator\\documents\\github\\csulibrarybot\\venv\\lib\\site-packages\\requests\\cookies.py\u001B[0m in \u001B[0;36m_find_no_duplicates\u001B[1;34m(self, name, domain, path)\u001B[0m\n\u001B[0;32m    397\u001B[0m         \u001B[1;32mif\u001B[0m \u001B[0mtoReturn\u001B[0m\u001B[1;33m:\u001B[0m\u001B[1;33m\u001B[0m\u001B[1;33m\u001B[0m\u001B[0m\n\u001B[0;32m    398\u001B[0m             \u001B[1;32mreturn\u001B[0m \u001B[0mtoReturn\u001B[0m\u001B[1;33m\u001B[0m\u001B[1;33m\u001B[0m\u001B[0m\n\u001B[1;32m--> 399\u001B[1;33m         \u001B[1;32mraise\u001B[0m \u001B[0mKeyError\u001B[0m\u001B[1;33m(\u001B[0m\u001B[1;34m'name=%r, domain=%r, path=%r'\u001B[0m \u001B[1;33m%\u001B[0m \u001B[1;33m(\u001B[0m\u001B[0mname\u001B[0m\u001B[1;33m,\u001B[0m \u001B[0mdomain\u001B[0m\u001B[1;33m,\u001B[0m \u001B[0mpath\u001B[0m\u001B[1;33m)\u001B[0m\u001B[1;33m)\u001B[0m\u001B[1;33m\u001B[0m\u001B[1;33m\u001B[0m\u001B[0m\n\u001B[0m\u001B[0;32m    400\u001B[0m \u001B[1;33m\u001B[0m\u001B[0m\n\u001B[0;32m    401\u001B[0m     \u001B[1;32mdef\u001B[0m \u001B[0m__getstate__\u001B[0m\u001B[1;33m(\u001B[0m\u001B[0mself\u001B[0m\u001B[1;33m)\u001B[0m\u001B[1;33m:\u001B[0m\u001B[1;33m\u001B[0m\u001B[1;33m\u001B[0m\u001B[0m\n",
      "\u001B[1;31mKeyError\u001B[0m: \"name='access_token', domain=None, path=None\""
     ]
    }
   ],
   "source": [
    "ans  =  csu.chooseSeat(13)\n",
    "print(ans)"
   ]
  }
 ],
 "metadata": {
  "kernelspec": {
   "display_name": "Python 3 (ipykernel)",
   "language": "python",
   "name": "python3"
  },
  "language_info": {
   "codemirror_mode": {
    "name": "ipython",
    "version": 3
   },
   "file_extension": ".py",
   "mimetype": "text/x-python",
   "name": "python",
   "nbconvert_exporter": "python",
   "pygments_lexer": "ipython3",
   "version": "3.7.9"
  }
 },
 "nbformat": 4,
 "nbformat_minor": 1
}